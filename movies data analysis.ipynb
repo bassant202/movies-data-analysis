{
 "cells": [
  {
   "cell_type": "markdown",
   "id": "bb465607",
   "metadata": {},
   "source": [
    "# Movies data analysis"
   ]
  },
  {
   "cell_type": "markdown",
   "id": "0f7ae928",
   "metadata": {},
   "source": [
    "# Dataset Description:\n",
    "  This data set contains information about +9000 movies extracted from TMDB API."
   ]
  },
  {
   "cell_type": "markdown",
   "id": "981beca1",
   "metadata": {},
   "source": [
    "# Columns Descriptions:\n",
    "   * Release_Date: Date when the movie was released.\n",
    "   * Title: Name of the movie.\n",
    "   * Overview: Brief summary of the movie.\n",
    "   * Popularity: It is a very important metric computed by TMDB developers based on the number of views per day, votes per day, number of users marked it as \"favorite\" and \"watchlist\" for the data, release date and more other metrics.\n",
    "   * Vote_Count: Total votes received from the viewers.\n",
    "   * Vote_Average: Average rating based on vote count and the number of viewers out of 10.\n",
    "   * Original_Language: Original language of the movies. Dubbed version is not considered to be original language.\n",
    "     Genre: Categories the movie it can be classified as.\n",
    "   * Poster_Url: Url of the movie poster."
   ]
  },
  {
   "cell_type": "markdown",
   "id": "1e1f3c56",
   "metadata": {},
   "source": [
    "# Import Libraries and Data:"
   ]
  },
  {
   "cell_type": "code",
   "execution_count": 34,
   "id": "e64cdfc7",
   "metadata": {},
   "outputs": [],
   "source": [
    "import numpy as np\n",
    "import matplotlib.pyplot as plt\n",
    "import pandas as pd\n",
    "import seaborn as sns\n",
    "import warnings\n",
    "warnings.simplefilter(action='ignore', category=FutureWarning)\n",
    "warnings.simplefilter(action='ignore', category=UserWarning)\n"
   ]
  },
  {
   "cell_type": "code",
   "execution_count": 62,
   "id": "82564e0e",
   "metadata": {},
   "outputs": [],
   "source": [
    "df = pd.read_csv('mymoviedb.csv',lineterminator='\\n')"
   ]
  },
  {
   "cell_type": "markdown",
   "id": "433f3f70",
   "metadata": {},
   "source": [
    "# Data preparation:"
   ]
  },
  {
   "cell_type": "code",
   "execution_count": 36,
   "id": "3c883749",
   "metadata": {},
   "outputs": [
    {
     "data": {
      "text/html": [
       "<div>\n",
       "<style scoped>\n",
       "    .dataframe tbody tr th:only-of-type {\n",
       "        vertical-align: middle;\n",
       "    }\n",
       "\n",
       "    .dataframe tbody tr th {\n",
       "        vertical-align: top;\n",
       "    }\n",
       "\n",
       "    .dataframe thead th {\n",
       "        text-align: right;\n",
       "    }\n",
       "</style>\n",
       "<table border=\"1\" class=\"dataframe\">\n",
       "  <thead>\n",
       "    <tr style=\"text-align: right;\">\n",
       "      <th></th>\n",
       "      <th>Release_Date</th>\n",
       "      <th>Title</th>\n",
       "      <th>Overview</th>\n",
       "      <th>Popularity</th>\n",
       "      <th>Vote_Count</th>\n",
       "      <th>Vote_Average</th>\n",
       "      <th>Original_Language</th>\n",
       "      <th>Genre</th>\n",
       "      <th>Poster_Url</th>\n",
       "    </tr>\n",
       "  </thead>\n",
       "  <tbody>\n",
       "    <tr>\n",
       "      <th>0</th>\n",
       "      <td>2021-12-15</td>\n",
       "      <td>Spider-Man: No Way Home</td>\n",
       "      <td>Peter Parker is unmasked and no longer able to...</td>\n",
       "      <td>5083.954</td>\n",
       "      <td>8940</td>\n",
       "      <td>8.3</td>\n",
       "      <td>en</td>\n",
       "      <td>Action, Adventure, Science Fiction</td>\n",
       "      <td>https://image.tmdb.org/t/p/original/1g0dhYtq4i...</td>\n",
       "    </tr>\n",
       "    <tr>\n",
       "      <th>1</th>\n",
       "      <td>2022-03-01</td>\n",
       "      <td>The Batman</td>\n",
       "      <td>In his second year of fighting crime, Batman u...</td>\n",
       "      <td>3827.658</td>\n",
       "      <td>1151</td>\n",
       "      <td>8.1</td>\n",
       "      <td>en</td>\n",
       "      <td>Crime, Mystery, Thriller</td>\n",
       "      <td>https://image.tmdb.org/t/p/original/74xTEgt7R3...</td>\n",
       "    </tr>\n",
       "    <tr>\n",
       "      <th>2</th>\n",
       "      <td>2022-02-25</td>\n",
       "      <td>No Exit</td>\n",
       "      <td>Stranded at a rest stop in the mountains durin...</td>\n",
       "      <td>2618.087</td>\n",
       "      <td>122</td>\n",
       "      <td>6.3</td>\n",
       "      <td>en</td>\n",
       "      <td>Thriller</td>\n",
       "      <td>https://image.tmdb.org/t/p/original/vDHsLnOWKl...</td>\n",
       "    </tr>\n",
       "    <tr>\n",
       "      <th>3</th>\n",
       "      <td>2021-11-24</td>\n",
       "      <td>Encanto</td>\n",
       "      <td>The tale of an extraordinary family, the Madri...</td>\n",
       "      <td>2402.201</td>\n",
       "      <td>5076</td>\n",
       "      <td>7.7</td>\n",
       "      <td>en</td>\n",
       "      <td>Animation, Comedy, Family, Fantasy</td>\n",
       "      <td>https://image.tmdb.org/t/p/original/4j0PNHkMr5...</td>\n",
       "    </tr>\n",
       "    <tr>\n",
       "      <th>4</th>\n",
       "      <td>2021-12-22</td>\n",
       "      <td>The King's Man</td>\n",
       "      <td>As a collection of history's worst tyrants and...</td>\n",
       "      <td>1895.511</td>\n",
       "      <td>1793</td>\n",
       "      <td>7.0</td>\n",
       "      <td>en</td>\n",
       "      <td>Action, Adventure, Thriller, War</td>\n",
       "      <td>https://image.tmdb.org/t/p/original/aq4Pwv5Xeu...</td>\n",
       "    </tr>\n",
       "  </tbody>\n",
       "</table>\n",
       "</div>"
      ],
      "text/plain": [
       "  Release_Date                    Title  \\\n",
       "0   2021-12-15  Spider-Man: No Way Home   \n",
       "1   2022-03-01               The Batman   \n",
       "2   2022-02-25                  No Exit   \n",
       "3   2021-11-24                  Encanto   \n",
       "4   2021-12-22           The King's Man   \n",
       "\n",
       "                                            Overview  Popularity  Vote_Count  \\\n",
       "0  Peter Parker is unmasked and no longer able to...    5083.954        8940   \n",
       "1  In his second year of fighting crime, Batman u...    3827.658        1151   \n",
       "2  Stranded at a rest stop in the mountains durin...    2618.087         122   \n",
       "3  The tale of an extraordinary family, the Madri...    2402.201        5076   \n",
       "4  As a collection of history's worst tyrants and...    1895.511        1793   \n",
       "\n",
       "   Vote_Average Original_Language                               Genre  \\\n",
       "0           8.3                en  Action, Adventure, Science Fiction   \n",
       "1           8.1                en            Crime, Mystery, Thriller   \n",
       "2           6.3                en                            Thriller   \n",
       "3           7.7                en  Animation, Comedy, Family, Fantasy   \n",
       "4           7.0                en    Action, Adventure, Thriller, War   \n",
       "\n",
       "                                          Poster_Url  \n",
       "0  https://image.tmdb.org/t/p/original/1g0dhYtq4i...  \n",
       "1  https://image.tmdb.org/t/p/original/74xTEgt7R3...  \n",
       "2  https://image.tmdb.org/t/p/original/vDHsLnOWKl...  \n",
       "3  https://image.tmdb.org/t/p/original/4j0PNHkMr5...  \n",
       "4  https://image.tmdb.org/t/p/original/aq4Pwv5Xeu...  "
      ]
     },
     "execution_count": 36,
     "metadata": {},
     "output_type": "execute_result"
    }
   ],
   "source": [
    "df.head()"
   ]
  },
  {
   "cell_type": "code",
   "execution_count": 37,
   "id": "3c374092",
   "metadata": {},
   "outputs": [
    {
     "name": "stdout",
     "output_type": "stream",
     "text": [
      "<class 'pandas.core.frame.DataFrame'>\n",
      "RangeIndex: 9827 entries, 0 to 9826\n",
      "Data columns (total 9 columns):\n",
      " #   Column             Non-Null Count  Dtype  \n",
      "---  ------             --------------  -----  \n",
      " 0   Release_Date       9827 non-null   object \n",
      " 1   Title              9827 non-null   object \n",
      " 2   Overview           9827 non-null   object \n",
      " 3   Popularity         9827 non-null   float64\n",
      " 4   Vote_Count         9827 non-null   int64  \n",
      " 5   Vote_Average       9827 non-null   float64\n",
      " 6   Original_Language  9827 non-null   object \n",
      " 7   Genre              9827 non-null   object \n",
      " 8   Poster_Url         9827 non-null   object \n",
      "dtypes: float64(2), int64(1), object(6)\n",
      "memory usage: 691.1+ KB\n"
     ]
    }
   ],
   "source": [
    "df.info()"
   ]
  },
  {
   "cell_type": "markdown",
   "id": "a5a6c902",
   "metadata": {},
   "source": [
    " * looks like our dataset has no NaNs!\n",
    " * Overview and Poster-Url wouldn't be so useful during analysis"
   ]
  },
  {
   "cell_type": "code",
   "execution_count": 38,
   "id": "758fcf9a",
   "metadata": {},
   "outputs": [
    {
     "data": {
      "text/html": [
       "<div>\n",
       "<style scoped>\n",
       "    .dataframe tbody tr th:only-of-type {\n",
       "        vertical-align: middle;\n",
       "    }\n",
       "\n",
       "    .dataframe tbody tr th {\n",
       "        vertical-align: top;\n",
       "    }\n",
       "\n",
       "    .dataframe thead th {\n",
       "        text-align: right;\n",
       "    }\n",
       "</style>\n",
       "<table border=\"1\" class=\"dataframe\">\n",
       "  <thead>\n",
       "    <tr style=\"text-align: right;\">\n",
       "      <th></th>\n",
       "      <th>Popularity</th>\n",
       "      <th>Vote_Count</th>\n",
       "      <th>Vote_Average</th>\n",
       "    </tr>\n",
       "  </thead>\n",
       "  <tbody>\n",
       "    <tr>\n",
       "      <th>count</th>\n",
       "      <td>9827.000000</td>\n",
       "      <td>9827.000000</td>\n",
       "      <td>9827.000000</td>\n",
       "    </tr>\n",
       "    <tr>\n",
       "      <th>mean</th>\n",
       "      <td>40.326088</td>\n",
       "      <td>1392.805536</td>\n",
       "      <td>6.439534</td>\n",
       "    </tr>\n",
       "    <tr>\n",
       "      <th>std</th>\n",
       "      <td>108.873998</td>\n",
       "      <td>2611.206907</td>\n",
       "      <td>1.129759</td>\n",
       "    </tr>\n",
       "    <tr>\n",
       "      <th>min</th>\n",
       "      <td>13.354000</td>\n",
       "      <td>0.000000</td>\n",
       "      <td>0.000000</td>\n",
       "    </tr>\n",
       "    <tr>\n",
       "      <th>25%</th>\n",
       "      <td>16.128500</td>\n",
       "      <td>146.000000</td>\n",
       "      <td>5.900000</td>\n",
       "    </tr>\n",
       "    <tr>\n",
       "      <th>50%</th>\n",
       "      <td>21.199000</td>\n",
       "      <td>444.000000</td>\n",
       "      <td>6.500000</td>\n",
       "    </tr>\n",
       "    <tr>\n",
       "      <th>75%</th>\n",
       "      <td>35.191500</td>\n",
       "      <td>1376.000000</td>\n",
       "      <td>7.100000</td>\n",
       "    </tr>\n",
       "    <tr>\n",
       "      <th>max</th>\n",
       "      <td>5083.954000</td>\n",
       "      <td>31077.000000</td>\n",
       "      <td>10.000000</td>\n",
       "    </tr>\n",
       "  </tbody>\n",
       "</table>\n",
       "</div>"
      ],
      "text/plain": [
       "        Popularity    Vote_Count  Vote_Average\n",
       "count  9827.000000   9827.000000   9827.000000\n",
       "mean     40.326088   1392.805536      6.439534\n",
       "std     108.873998   2611.206907      1.129759\n",
       "min      13.354000      0.000000      0.000000\n",
       "25%      16.128500    146.000000      5.900000\n",
       "50%      21.199000    444.000000      6.500000\n",
       "75%      35.191500   1376.000000      7.100000\n",
       "max    5083.954000  31077.000000     10.000000"
      ]
     },
     "execution_count": 38,
     "metadata": {},
     "output_type": "execute_result"
    }
   ],
   "source": [
    "df.describe()"
   ]
  },
  {
   "cell_type": "code",
   "execution_count": 39,
   "id": "840d2549",
   "metadata": {},
   "outputs": [
    {
     "data": {
      "text/plain": [
       "(9827, 9)"
      ]
     },
     "execution_count": 39,
     "metadata": {},
     "output_type": "execute_result"
    }
   ],
   "source": [
    "df.shape"
   ]
  },
  {
   "cell_type": "code",
   "execution_count": 40,
   "id": "aef6f2b6",
   "metadata": {},
   "outputs": [],
   "source": [
    "# droping some useless columns \n",
    "df=df.drop(columns=['Overview','Poster_Url'])"
   ]
  },
  {
   "cell_type": "code",
   "execution_count": 41,
   "id": "304d88ff",
   "metadata": {},
   "outputs": [
    {
     "data": {
      "text/plain": [
       "0"
      ]
     },
     "execution_count": 41,
     "metadata": {},
     "output_type": "execute_result"
    }
   ],
   "source": [
    "df.duplicated().sum()"
   ]
  },
  {
   "cell_type": "markdown",
   "id": "70a787e4",
   "metadata": {},
   "source": [
    "# Exploration Summarey\n",
    " * we have a dataframe consisting of 9827 rows and 9 columns.\n",
    " * our dataset looks a bit tidy with no NaNs nor duplicated values.\n",
    " * in Release_Date column we need to extract only the year value.\n",
    " * Overview and Poster-Url wouldn't be so useful during analysis, so we dropped them.\n",
    " * there is noticable outliers in Popularity column\n",
    " * Genre column has comma saperated values and white spaces that needs to be handled and casted into category."
   ]
  },
  {
   "cell_type": "markdown",
   "id": "c4bb2645",
   "metadata": {},
   "source": [
    "# data Cleaning"
   ]
  },
  {
   "cell_type": "code",
   "execution_count": 42,
   "id": "26f69494",
   "metadata": {},
   "outputs": [
    {
     "name": "stdout",
     "output_type": "stream",
     "text": [
      "datetime64[ns]\n"
     ]
    }
   ],
   "source": [
    "# casting column \n",
    "df['Release_Date'] = pd.to_datetime(df['Release_Date'])\n",
    "\n",
    "# confirming changes\n",
    "print(df['Release_Date'].dtypes)"
   ]
  },
  {
   "cell_type": "code",
   "execution_count": 43,
   "id": "fda52664",
   "metadata": {},
   "outputs": [
    {
     "data": {
      "text/plain": [
       "dtype('int64')"
      ]
     },
     "execution_count": 43,
     "metadata": {},
     "output_type": "execute_result"
    }
   ],
   "source": [
    "df['Release_Date'] = df['Release_Date'].dt.year\n",
    "df['Release_Date'].dtypes"
   ]
  },
  {
   "cell_type": "code",
   "execution_count": 44,
   "id": "dce6c7a9",
   "metadata": {},
   "outputs": [
    {
     "data": {
      "text/plain": [
       "array([2021, 2022, 2020, 1986, 2018, 1989, 2012, 2009, 2005, 2019, 2014,\n",
       "       2016, 2001, 2015, 2002, 2017, 2011, 2007, 2004, 2010, 1972, 2023,\n",
       "       2008, 1995, 1994, 1992, 2013, 2003, 2006, 1999, 1993, 1985, 1998,\n",
       "       1950, 1997, 2000, 1991, 1937, 1990, 1977, 1940, 1981, 1942, 1973,\n",
       "       1941, 1974, 1951, 1996, 1959, 1961, 1967, 1953, 1988, 1956, 1983,\n",
       "       1976, 1955, 1970, 1984, 1971, 1987, 1963, 1980, 1939, 1975, 1979,\n",
       "       1982, 1966, 1978, 1965, 1946, 1964, 1968, 1962, 1960, 1957, 1949,\n",
       "       1922, 2024, 1969, 1954, 1933, 1932, 1958, 1952, 1944, 1931, 1948,\n",
       "       1938, 1945, 1927, 1925, 1935, 1936, 1902, 1920, 1947, 1943, 1929,\n",
       "       1926, 1921, 1930], dtype=int64)"
      ]
     },
     "execution_count": 44,
     "metadata": {},
     "output_type": "execute_result"
    }
   ],
   "source": [
    "df[\"Release_Date\"].unique()"
   ]
  },
  {
   "cell_type": "markdown",
   "id": "5fd4e97e",
   "metadata": {},
   "source": [
    "# we are in 2022 and there are dates in 2023, so we will drop them "
   ]
  },
  {
   "cell_type": "code",
   "execution_count": 45,
   "id": "53f23bd9",
   "metadata": {},
   "outputs": [],
   "source": [
    "movies1=df.loc[df[\"Release_Date\"] == 2023]\n",
    "df.drop(movies1.index, inplace=True)"
   ]
  },
  {
   "cell_type": "code",
   "execution_count": 46,
   "id": "d2414b93",
   "metadata": {},
   "outputs": [
    {
     "data": {
      "text/plain": [
       "(9819, 7)"
      ]
     },
     "execution_count": 46,
     "metadata": {},
     "output_type": "execute_result"
    }
   ],
   "source": [
    "df.shape"
   ]
  },
  {
   "cell_type": "markdown",
   "id": "51fa4f9b",
   "metadata": {},
   "source": [
    "# the movies in 2022 maybe coming out soon or currently showing so some of them don't have chance to be rated "
   ]
  },
  {
   "cell_type": "code",
   "execution_count": 47,
   "id": "65cb9b9b",
   "metadata": {
    "scrolled": true
   },
   "outputs": [
    {
     "data": {
      "text/html": [
       "<div>\n",
       "<style scoped>\n",
       "    .dataframe tbody tr th:only-of-type {\n",
       "        vertical-align: middle;\n",
       "    }\n",
       "\n",
       "    .dataframe tbody tr th {\n",
       "        vertical-align: top;\n",
       "    }\n",
       "\n",
       "    .dataframe thead th {\n",
       "        text-align: right;\n",
       "    }\n",
       "</style>\n",
       "<table border=\"1\" class=\"dataframe\">\n",
       "  <thead>\n",
       "    <tr style=\"text-align: right;\">\n",
       "      <th></th>\n",
       "      <th>Release_Date</th>\n",
       "      <th>Title</th>\n",
       "      <th>Popularity</th>\n",
       "      <th>Vote_Count</th>\n",
       "      <th>Vote_Average</th>\n",
       "      <th>Original_Language</th>\n",
       "      <th>Genre</th>\n",
       "    </tr>\n",
       "  </thead>\n",
       "  <tbody>\n",
       "    <tr>\n",
       "      <th>80</th>\n",
       "      <td>2022</td>\n",
       "      <td>Sonic the Hedgehog 2</td>\n",
       "      <td>317.159</td>\n",
       "      <td>0</td>\n",
       "      <td>0.0</td>\n",
       "      <td>en</td>\n",
       "      <td>Action, Science Fiction, Comedy, Family</td>\n",
       "    </tr>\n",
       "    <tr>\n",
       "      <th>231</th>\n",
       "      <td>2022</td>\n",
       "      <td>Dragon Ball Super: Super Hero</td>\n",
       "      <td>170.551</td>\n",
       "      <td>0</td>\n",
       "      <td>0.0</td>\n",
       "      <td>ja</td>\n",
       "      <td>Animation, Science Fiction, Action</td>\n",
       "    </tr>\n",
       "    <tr>\n",
       "      <th>232</th>\n",
       "      <td>2022</td>\n",
       "      <td>After Ever Happy</td>\n",
       "      <td>169.964</td>\n",
       "      <td>0</td>\n",
       "      <td>0.0</td>\n",
       "      <td>en</td>\n",
       "      <td>Romance</td>\n",
       "    </tr>\n",
       "    <tr>\n",
       "      <th>314</th>\n",
       "      <td>2022</td>\n",
       "      <td>The Bad Guys</td>\n",
       "      <td>146.548</td>\n",
       "      <td>0</td>\n",
       "      <td>0.0</td>\n",
       "      <td>en</td>\n",
       "      <td>Animation, Comedy, Action, Family, Crime</td>\n",
       "    </tr>\n",
       "    <tr>\n",
       "      <th>322</th>\n",
       "      <td>2022</td>\n",
       "      <td>Doctor Strange in the Multiverse of Madness</td>\n",
       "      <td>144.134</td>\n",
       "      <td>0</td>\n",
       "      <td>0.0</td>\n",
       "      <td>en</td>\n",
       "      <td>Fantasy, Action, Adventure</td>\n",
       "    </tr>\n",
       "  </tbody>\n",
       "</table>\n",
       "</div>"
      ],
      "text/plain": [
       "     Release_Date                                        Title  Popularity  \\\n",
       "80           2022                         Sonic the Hedgehog 2     317.159   \n",
       "231          2022                Dragon Ball Super: Super Hero     170.551   \n",
       "232          2022                             After Ever Happy     169.964   \n",
       "314          2022                                 The Bad Guys     146.548   \n",
       "322          2022  Doctor Strange in the Multiverse of Madness     144.134   \n",
       "\n",
       "     Vote_Count  Vote_Average Original_Language  \\\n",
       "80            0           0.0                en   \n",
       "231           0           0.0                ja   \n",
       "232           0           0.0                en   \n",
       "314           0           0.0                en   \n",
       "322           0           0.0                en   \n",
       "\n",
       "                                        Genre  \n",
       "80    Action, Science Fiction, Comedy, Family  \n",
       "231        Animation, Science Fiction, Action  \n",
       "232                                   Romance  \n",
       "314  Animation, Comedy, Action, Family, Crime  \n",
       "322                Fantasy, Action, Adventure  "
      ]
     },
     "execution_count": 47,
     "metadata": {},
     "output_type": "execute_result"
    }
   ],
   "source": [
    "movies2=df.loc[(df.Vote_Count==0)&(df.Release_Date==2022)]\n",
    "movies2.head()"
   ]
  },
  {
   "cell_type": "code",
   "execution_count": 48,
   "id": "4a81b611",
   "metadata": {},
   "outputs": [
    {
     "data": {
      "text/plain": [
       "(9737, 7)"
      ]
     },
     "execution_count": 48,
     "metadata": {},
     "output_type": "execute_result"
    }
   ],
   "source": [
    "# we will drop them \n",
    "df.drop(movies2.index, inplace=True)\n",
    "df.shape"
   ]
  },
  {
   "cell_type": "markdown",
   "id": "cc9a6bd3",
   "metadata": {},
   "source": [
    "# Handling `Genre` column (So I'm going to leave only the first category from the left side)\n"
   ]
  },
  {
   "cell_type": "code",
   "execution_count": 49,
   "id": "de4ee70c",
   "metadata": {},
   "outputs": [
    {
     "data": {
      "text/plain": [
       "array(['Action', 'Crime', 'Thriller', 'Animation', 'Horror',\n",
       "       'Science Fiction', 'Fantasy', 'Romance', 'Drama', 'Western',\n",
       "       'Family', 'Comedy', 'Adventure', 'Mystery', 'TV Movie',\n",
       "       'Documentary', 'War', 'Music', 'History'], dtype=object)"
      ]
     },
     "execution_count": 49,
     "metadata": {},
     "output_type": "execute_result"
    }
   ],
   "source": [
    "df[\"Genre\"]= df[\"Genre\"].str.split(',').str[0]\n",
    "\n",
    "# confirming changes\n",
    "df[\"Genre\"].unique()"
   ]
  },
  {
   "cell_type": "code",
   "execution_count": 50,
   "id": "7c4acff5",
   "metadata": {},
   "outputs": [
    {
     "data": {
      "text/plain": [
       "CategoricalDtype(categories=['Action', 'Adventure', 'Animation', 'Comedy', 'Crime',\n",
       "                  'Documentary', 'Drama', 'Family', 'Fantasy', 'History',\n",
       "                  'Horror', 'Music', 'Mystery', 'Romance', 'Science Fiction',\n",
       "                  'TV Movie', 'Thriller', 'War', 'Western'],\n",
       ", ordered=False)"
      ]
     },
     "execution_count": 50,
     "metadata": {},
     "output_type": "execute_result"
    }
   ],
   "source": [
    "# casting column into category\n",
    "df[\"Genre\"] = df[\"Genre\"].astype(\"category\")\n",
    "\n",
    "# confirming changes\n",
    "df[\"Genre\"].dtypes"
   ]
  },
  {
   "cell_type": "markdown",
   "id": "b6e0eaf8",
   "metadata": {},
   "source": [
    "# handling language column "
   ]
  },
  {
   "cell_type": "code",
   "execution_count": 63,
   "id": "14ce2ed5",
   "metadata": {},
   "outputs": [
    {
     "data": {
      "text/plain": [
       "en    7570\n",
       "ja     645\n",
       "es     339\n",
       "fr     292\n",
       "ko     170\n",
       "zh     129\n",
       "it     123\n",
       "cn     109\n",
       "ru      83\n",
       "de      82\n",
       "pt      37\n",
       "da      28\n",
       "no      26\n",
       "hi      26\n",
       "sv      23\n",
       "nl      21\n",
       "pl      17\n",
       "th      17\n",
       "id      15\n",
       "tr      15\n",
       "tl       8\n",
       "te       6\n",
       "el       5\n",
       "fi       5\n",
       "sr       5\n",
       "cs       4\n",
       "fa       3\n",
       "hu       3\n",
       "is       2\n",
       "ro       2\n",
       "uk       2\n",
       "ta       2\n",
       "ar       2\n",
       "he       2\n",
       "ca       1\n",
       "la       1\n",
       "nb       1\n",
       "bn       1\n",
       "ms       1\n",
       "lv       1\n",
       "eu       1\n",
       "ml       1\n",
       "et       1\n",
       "Name: Original_Language, dtype: int64"
      ]
     },
     "execution_count": 63,
     "metadata": {},
     "output_type": "execute_result"
    }
   ],
   "source": [
    "df['Original_Language'].value_counts()"
   ]
  },
  {
   "cell_type": "code",
   "execution_count": 58,
   "id": "605e17f0",
   "metadata": {},
   "outputs": [],
   "source": [
    "df['Original_Language']=df['Original_Language'].replace(to_replace=['pl','th','tr','id','tl','el','fi','te','sr','cs','fa','hu','is','ro','uk','ar','he','ta','ca','la','nb','bn','ms','ml','eu','et','cn','ru','de','pt','da','no','hi','sv','nl'],value='other')"
   ]
  },
  {
   "cell_type": "code",
   "execution_count": 61,
   "id": "e7d2909b",
   "metadata": {},
   "outputs": [
    {
     "data": {
      "text/plain": [
       "en       7512\n",
       "ja        643\n",
       "other     549\n",
       "es        333\n",
       "fr        280\n",
       "ko        168\n",
       "zh        129\n",
       "it        123\n",
       "Name: Original_Language, dtype: int64"
      ]
     },
     "execution_count": 61,
     "metadata": {},
     "output_type": "execute_result"
    }
   ],
   "source": [
    "df['Original_Language'].value_counts()"
   ]
  },
  {
   "cell_type": "markdown",
   "id": "b040ff45",
   "metadata": {},
   "source": [
    "# Data visualizing "
   ]
  },
  {
   "cell_type": "markdown",
   "id": "0a4fdc26",
   "metadata": {},
   "source": [
    "# what is the most frequent genre?"
   ]
  },
  {
   "cell_type": "code",
   "execution_count": 18,
   "id": "cb53c574",
   "metadata": {},
   "outputs": [
    {
     "data": {
      "image/png": "[encoded data removed]",
      "text/plain": [
       "<Figure size 360x360 with 1 Axes>"
      ]
     },
     "metadata": {
      "needs_background": "light"
     },
     "output_type": "display_data"
    }
   ],
   "source": [
    "sns.catplot(x = 'Genre', data = df, kind = 'count', \n",
    "            order = df['Genre'].value_counts().index,\n",
    "            color = '#4287f5')\n",
    "plt.title('genre column distribution')\n",
    "plt.xticks(rotation=90)\n",
    "plt.show()"
   ]
  },
  {
   "cell_type": "markdown",
   "id": "b53d901f",
   "metadata": {},
   "source": [
    " the most frequent genre is drama "
   ]
  },
  {
   "cell_type": "markdown",
   "id": "42f2cef9",
   "metadata": {},
   "source": [
    "# What genres has highest votes?"
   ]
  },
  {
   "cell_type": "code",
   "execution_count": 19,
   "id": "6d0bb1f6",
   "metadata": {},
   "outputs": [
    {
     "data": {
      "image/png": "[encoded data removed]",
      "text/plain": [
       "<Figure size 360x360 with 1 Axes>"
      ]
     },
     "metadata": {
      "needs_background": "light"
     },
     "output_type": "display_data"
    }
   ],
   "source": [
    "most_popular_genre=sns.catplot(x='Genre',y='Vote_Average',kind='box',data=df,sym='',color = '#4287f5')\n",
    "plt.xticks(rotation=90)\n",
    "plt.show()"
   ]
  },
  {
   "cell_type": "markdown",
   "id": "fa2dfc55",
   "metadata": {},
   "source": [
    "drama and documentary have the highest votes"
   ]
  },
  {
   "cell_type": "markdown",
   "id": "7955090f",
   "metadata": {},
   "source": [
    "# What movie got the highest popularity? what's its genre?"
   ]
  },
  {
   "cell_type": "code",
   "execution_count": 20,
   "id": "df17126c",
   "metadata": {},
   "outputs": [
    {
     "data": {
      "text/html": [
       "<div>\n",
       "<style scoped>\n",
       "    .dataframe tbody tr th:only-of-type {\n",
       "        vertical-align: middle;\n",
       "    }\n",
       "\n",
       "    .dataframe tbody tr th {\n",
       "        vertical-align: top;\n",
       "    }\n",
       "\n",
       "    .dataframe thead th {\n",
       "        text-align: right;\n",
       "    }\n",
       "</style>\n",
       "<table border=\"1\" class=\"dataframe\">\n",
       "  <thead>\n",
       "    <tr style=\"text-align: right;\">\n",
       "      <th></th>\n",
       "      <th>Release_Date</th>\n",
       "      <th>Title</th>\n",
       "      <th>Popularity</th>\n",
       "      <th>Vote_Count</th>\n",
       "      <th>Vote_Average</th>\n",
       "      <th>Original_Language</th>\n",
       "      <th>Genre</th>\n",
       "    </tr>\n",
       "  </thead>\n",
       "  <tbody>\n",
       "    <tr>\n",
       "      <th>0</th>\n",
       "      <td>2021</td>\n",
       "      <td>Spider-Man: No Way Home</td>\n",
       "      <td>5083.954</td>\n",
       "      <td>8940</td>\n",
       "      <td>8.3</td>\n",
       "      <td>en</td>\n",
       "      <td>Action</td>\n",
       "    </tr>\n",
       "  </tbody>\n",
       "</table>\n",
       "</div>"
      ],
      "text/plain": [
       "   Release_Date                    Title  Popularity  Vote_Count  \\\n",
       "0          2021  Spider-Man: No Way Home    5083.954        8940   \n",
       "\n",
       "   Vote_Average Original_Language   Genre  \n",
       "0           8.3                en  Action  "
      ]
     },
     "execution_count": 20,
     "metadata": {},
     "output_type": "execute_result"
    }
   ],
   "source": [
    "df[df['Popularity'] == df['Popularity'].max()]"
   ]
  },
  {
   "cell_type": "markdown",
   "id": "a5c8d82a",
   "metadata": {},
   "source": [
    "we can see that Spider-Man: No Way Home has the highest popularity rate in our dataset and it has genres of Action."
   ]
  },
  {
   "cell_type": "markdown",
   "id": "78abbd4a",
   "metadata": {},
   "source": [
    "# Which year has the most filmmed movies?"
   ]
  },
  {
   "cell_type": "code",
   "execution_count": 21,
   "id": "e13d7fc8",
   "metadata": {},
   "outputs": [
    {
     "data": {
      "image/png": "[encoded data removed]",
      "text/plain": [
       "<Figure size 432x288 with 1 Axes>"
      ]
     },
     "metadata": {
      "needs_background": "light"
     },
     "output_type": "display_data"
    }
   ],
   "source": [
    "df['Release_Date'].hist()\n",
    "plt.title('Release_Date column distribution')\n",
    "plt.xticks(rotation=90)\n",
    "plt.show()"
   ]
  },
  {
   "cell_type": "markdown",
   "id": "dfb203d1",
   "metadata": {},
   "source": [
    "# what is the most frequent language?"
   ]
  },
  {
   "cell_type": "code",
   "execution_count": 59,
   "id": "f6a973e5",
   "metadata": {},
   "outputs": [
    {
     "data": {
      "image/png": "[encoded data removed]",
      "text/plain": [
       "<Figure size 432x288 with 1 Axes>"
      ]
     },
     "metadata": {},
     "output_type": "display_data"
    }
   ],
   "source": [
    "plt.pie(df['Original_Language'].value_counts(),labels=df['Original_Language'].value_counts().index)\n",
    "plt.show()"
   ]
  },
  {
   "cell_type": "markdown",
   "id": "2608a3b6",
   "metadata": {},
   "source": [
    "the most frequent language is english"
   ]
  },
  {
   "cell_type": "code",
   "execution_count": null,
   "id": "3fd54b44",
   "metadata": {},
   "outputs": [],
   "source": []
  }
 ],
 "metadata": {
  "kernelspec": {
   "display_name": "Python 3 (ipykernel)",
   "language": "python",
   "name": "python3"
  },
  "language_info": {
   "codemirror_mode": {
    "name": "ipython",
    "version": 3
   },
   "file_extension": ".py",
   "mimetype": "text/x-python",
   "name": "python",
   "nbconvert_exporter": "python",
   "pygments_lexer": "ipython3",
   "version": "3.9.12"
  }
 },
 "nbformat": 4,
 "nbformat_minor": 5
}
